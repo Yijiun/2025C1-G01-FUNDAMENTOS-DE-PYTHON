{
 "cells": [
  {
   "cell_type": "markdown",
   "id": "74ca98fe",
   "metadata": {},
   "source": [
    "# Ejes y mapeados\n",
    "\n",
    "Como vimos los `DataFrames` automatizan gran parte del trabajo gracias a las etiquetas, pero también podemos configurar manualmente la información de los ejes en caso de trabajar con `listas` o `arrays`:"
   ]
  },
  {
   "cell_type": "code",
   "execution_count": 1,
   "id": "9abf55e0",
   "metadata": {},
   "outputs": [],
   "source": [
    "import numpy as np\n",
    "import matplotlib.pyplot as plt"
   ]
  },
  {
   "cell_type": "code",
   "execution_count": 11,
   "id": "5bc4da67",
   "metadata": {},
   "outputs": [
    {
     "ename": "NameError",
     "evalue": "name 'plt' is not defined",
     "output_type": "error",
     "traceback": [
      "\u001b[1;31m---------------------------------------------------------------------------\u001b[0m",
      "\u001b[1;31mNameError\u001b[0m                                 Traceback (most recent call last)",
      "Cell \u001b[1;32mIn[11], line 6\u001b[0m\n\u001b[0;32m      3\u001b[0m ahorros \u001b[38;5;241m=\u001b[39m [\u001b[38;5;241m400\u001b[39m, \u001b[38;5;241m350\u001b[39m, \u001b[38;5;241m700\u001b[39m, \u001b[38;5;241m100\u001b[39m, \u001b[38;5;241m450\u001b[39m, \u001b[38;5;241m480\u001b[39m]\n\u001b[0;32m      5\u001b[0m \u001b[38;5;66;03m# Gráficamos sin etiquetas\u001b[39;00m\n\u001b[1;32m----> 6\u001b[0m \u001b[43mplt\u001b[49m\u001b[38;5;241m.\u001b[39mplot(ahorros)\n",
      "\u001b[1;31mNameError\u001b[0m: name 'plt' is not defined"
     ]
    }
   ],
   "source": [
    "# Generamos un array con ahorros de prueba\n",
    "#ahorros = np.random.randint(100, size=6)\n",
    "ahorros = [400, 350, 700, 100, 450, 480]\n",
    "\n",
    "# Gráficamos sin etiquetas\n",
    "plt.plot(ahorros)"
   ]
  },
  {
   "cell_type": "markdown",
   "id": "f0b1dffa",
   "metadata": {},
   "source": [
    "## Mapeado de texto en los ejes\n",
    "\n",
    "Para añadir información textual a un eje necesitamos mapear datos en rangos de índices utilizando los métodos `xticks` e `yticks`:"
   ]
  },
  {
   "cell_type": "code",
   "execution_count": 12,
   "id": "aa16a6ab",
   "metadata": {},
   "outputs": [],
   "source": [
    "# Definimos una lista con los meses para el eje horizontal\n",
    "#ahorros = [400, 350, 700, 100, 450, 480]\n",
    "meses = ['Enero','Febrero','Abril','Marzo','Mayo','Junio']"
   ]
  },
  {
   "cell_type": "code",
   "execution_count": 16,
   "id": "422cc246",
   "metadata": {},
   "outputs": [
    {
     "ename": "NameError",
     "evalue": "name 'plt' is not defined",
     "output_type": "error",
     "traceback": [
      "\u001b[1;31m---------------------------------------------------------------------------\u001b[0m",
      "\u001b[1;31mNameError\u001b[0m                                 Traceback (most recent call last)",
      "Cell \u001b[1;32mIn[16], line 3\u001b[0m\n\u001b[0;32m      1\u001b[0m \u001b[38;5;66;03m# Mapeamos un rango de índices para el eje horizontal\u001b[39;00m\n\u001b[0;32m      2\u001b[0m ahorros \u001b[38;5;241m=\u001b[39m [\u001b[38;5;241m400\u001b[39m, \u001b[38;5;241m350\u001b[39m, \u001b[38;5;241m700\u001b[39m, \u001b[38;5;241m100\u001b[39m, \u001b[38;5;241m450\u001b[39m, \u001b[38;5;241m480\u001b[39m]\n\u001b[1;32m----> 3\u001b[0m \u001b[43mplt\u001b[49m\u001b[38;5;241m.\u001b[39mplot(ahorros)\n\u001b[0;32m      4\u001b[0m meses \u001b[38;5;241m=\u001b[39m [\u001b[38;5;124m'\u001b[39m\u001b[38;5;124mEnero\u001b[39m\u001b[38;5;124m'\u001b[39m,\u001b[38;5;124m'\u001b[39m\u001b[38;5;124mFebrero\u001b[39m\u001b[38;5;124m'\u001b[39m,\u001b[38;5;124m'\u001b[39m\u001b[38;5;124mAbril\u001b[39m\u001b[38;5;124m'\u001b[39m,\u001b[38;5;124m'\u001b[39m\u001b[38;5;124mMarzo\u001b[39m\u001b[38;5;124m'\u001b[39m,\u001b[38;5;124m'\u001b[39m\u001b[38;5;124mMayo\u001b[39m\u001b[38;5;124m'\u001b[39m,\u001b[38;5;124m'\u001b[39m\u001b[38;5;124mJunio\u001b[39m\u001b[38;5;124m'\u001b[39m]\n\u001b[0;32m      5\u001b[0m plt\u001b[38;5;241m.\u001b[39mxticks([\u001b[38;5;241m0\u001b[39m,\u001b[38;5;241m1\u001b[39m,\u001b[38;5;241m2\u001b[39m,\u001b[38;5;241m3\u001b[39m,\u001b[38;5;241m4\u001b[39m,\u001b[38;5;241m5\u001b[39m], meses)\n",
      "\u001b[1;31mNameError\u001b[0m: name 'plt' is not defined"
     ]
    }
   ],
   "source": [
    "# Mapeamos un rango de índices para el eje horizontal\n",
    "ahorros = [400, 350, 700, 100, 450, 480]\n",
    "plt.plot(ahorros)\n",
    "meses = ['Enero','Febrero','Abril','Marzo','Mayo','Junio']\n",
    "plt.xticks([0,1,2,3,4,5], meses)"
   ]
  },
  {
   "cell_type": "markdown",
   "id": "9697395f",
   "metadata": {},
   "source": [
    "Por cierto, para mostrar en el output de una celda solo el gráfico podemos utilizar específicamente su método `show`:"
   ]
  },
  {
   "cell_type": "code",
   "execution_count": null,
   "id": "ba568ed2",
   "metadata": {},
   "outputs": [
    {
     "ename": "NameError",
     "evalue": "name 'plt' is not defined",
     "output_type": "error",
     "traceback": [
      "\u001b[1;31m---------------------------------------------------------------------------\u001b[0m",
      "\u001b[1;31mNameError\u001b[0m                                 Traceback (most recent call last)",
      "Cell \u001b[1;32mIn[8], line 9\u001b[0m\n\u001b[0;32m      6\u001b[0m \u001b[38;5;66;03m# Definimos una lista con los meses para el eje horizontal\u001b[39;00m\n\u001b[0;32m      7\u001b[0m meses \u001b[38;5;241m=\u001b[39m [\u001b[38;5;124m'\u001b[39m\u001b[38;5;124mEnero\u001b[39m\u001b[38;5;124m'\u001b[39m,\u001b[38;5;124m'\u001b[39m\u001b[38;5;124mFebrero\u001b[39m\u001b[38;5;124m'\u001b[39m,\u001b[38;5;124m'\u001b[39m\u001b[38;5;124mMarzo\u001b[39m\u001b[38;5;124m'\u001b[39m,\u001b[38;5;124m'\u001b[39m\u001b[38;5;124mAbril\u001b[39m\u001b[38;5;124m'\u001b[39m,\u001b[38;5;124m'\u001b[39m\u001b[38;5;124mMayo\u001b[39m\u001b[38;5;124m'\u001b[39m,\u001b[38;5;124m'\u001b[39m\u001b[38;5;124mJunio\u001b[39m\u001b[38;5;124m'\u001b[39m,\u001b[38;5;124m'\u001b[39m\u001b[38;5;124mJulio\u001b[39m\u001b[38;5;124m'\u001b[39m, \u001b[38;5;124m'\u001b[39m\u001b[38;5;124mAgosto\u001b[39m\u001b[38;5;124m'\u001b[39m,\u001b[38;5;124m'\u001b[39m\u001b[38;5;124mSeptiembre\u001b[39m\u001b[38;5;124m'\u001b[39m]\n\u001b[1;32m----> 9\u001b[0m \u001b[43mplt\u001b[49m\u001b[38;5;241m.\u001b[39mplot(ahorros)\n\u001b[0;32m     10\u001b[0m \u001b[38;5;28mprint\u001b[39m(\u001b[38;5;28mrange\u001b[39m(\u001b[38;5;28mlen\u001b[39m(meses)))\n\u001b[0;32m     11\u001b[0m plt\u001b[38;5;241m.\u001b[39mxticks(\u001b[38;5;28mrange\u001b[39m(\u001b[38;5;28mlen\u001b[39m(meses)), meses)\n",
      "\u001b[1;31mNameError\u001b[0m: name 'plt' is not defined"
     ]
    }
   ],
   "source": [
    "#ahorros = np.random.randint(100, size=8)\n",
    "\n",
    "#Carlos\n",
    "ahorros = [400, 350, 700, 100, 450, 480]\n",
    "\n",
    "# Definimos una lista con los meses para el eje horizontal\n",
    "meses = ['Enero','Febrero','Marzo','Abril','Mayo','Junio','Julio', 'Agosto','Septiembre']\n",
    "\n",
    "plt.plot(ahorros)\n",
    "print(range(len(meses)))\n",
    "plt.xticks(range(len(meses)), meses)\n",
    "plt.show()\n"
   ]
  },
  {
   "cell_type": "markdown",
   "id": "8afe3919",
   "metadata": {},
   "source": [
    "Debemos tener en cuenta que aunque tengamos texto mapeado, el verdadero valor del eje X es en realidad un rango incremental de números manejado automáticamente."
   ]
  },
  {
   "cell_type": "markdown",
   "id": "2c54f892",
   "metadata": {},
   "source": [
    "## Ejes X e Y\n",
    "\n",
    "Al utilizar un único vector en el método `plot` éste lo toma como los valores del eje Y y genera el X automáticamente a partir de su longitud:"
   ]
  },
  {
   "cell_type": "code",
   "execution_count": 6,
   "id": "08d227f7",
   "metadata": {},
   "outputs": [
    {
     "ename": "NameError",
     "evalue": "name 'np' is not defined",
     "output_type": "error",
     "traceback": [
      "\u001b[1;31m---------------------------------------------------------------------------\u001b[0m",
      "\u001b[1;31mNameError\u001b[0m                                 Traceback (most recent call last)",
      "Cell \u001b[1;32mIn[6], line 1\u001b[0m\n\u001b[1;32m----> 1\u001b[0m y \u001b[38;5;241m=\u001b[39m \u001b[43mnp\u001b[49m\u001b[38;5;241m.\u001b[39mrandom\u001b[38;5;241m.\u001b[39mrandint(\u001b[38;5;241m20\u001b[39m, size\u001b[38;5;241m=\u001b[39m[\u001b[38;5;241m6\u001b[39m])\n\u001b[0;32m      2\u001b[0m \u001b[38;5;28mprint\u001b[39m(y)\n\u001b[0;32m      3\u001b[0m plt\u001b[38;5;241m.\u001b[39mplot(y)\n",
      "\u001b[1;31mNameError\u001b[0m: name 'np' is not defined"
     ]
    }
   ],
   "source": [
    "\n",
    "y = np.random.randint(20, size=[6])\n",
    "print(y)\n",
    "plt.plot(y)\n",
    "plt.show()"
   ]
  },
  {
   "cell_type": "markdown",
   "id": "b669eb7c",
   "metadata": {},
   "source": [
    "Es posible modificar los valores del eje X si los pasamos en otro vector o lista como primer parámetro (siempre que el número de elementos concuerde):"
   ]
  },
  {
   "cell_type": "code",
   "execution_count": null,
   "id": "34a60124",
   "metadata": {},
   "outputs": [],
   "source": [
    "x = [\"A\", \"B\", \"C\", \"D\", \"E\", \"F\"]\n",
    "# Gráfica X y Y\n",
    "plt.plot(x,y)"
   ]
  },
  {
   "cell_type": "markdown",
   "id": "81c53249",
   "metadata": {},
   "source": [
    "## Gráficos invertidos\n",
    "\n",
    "Algo interesante es que cambiando el orden de los ejes podemos generar un gráfico invertido:"
   ]
  },
  {
   "cell_type": "code",
   "execution_count": null,
   "id": "79614143",
   "metadata": {},
   "outputs": [],
   "source": [
    "# Gráfica \n",
    "plt.plot(y,x)\n",
    "plt.show()"
   ]
  },
  {
   "cell_type": "markdown",
   "id": "0a18306f",
   "metadata": {},
   "source": [
    "## Ejemplo curioso\n",
    "\n",
    "¿Qué ocurriría si los valores en X también fueran aleatorios?"
   ]
  },
  {
   "cell_type": "code",
   "execution_count": null,
   "id": "8cd282f3",
   "metadata": {},
   "outputs": [],
   "source": [
    "x = np.random.randint(20,size=5)\n",
    "y = np.random.randint(20,size=5)\n",
    "\n",
    "plt.plot(x,y)\n",
    "plt.show()"
   ]
  },
  {
   "cell_type": "markdown",
   "id": "ea9f4ed8",
   "metadata": {},
   "source": [
    "Como vemos se genera un gráfico muy extraño.\n",
    "\n",
    "Un gráfico lineal se rige en función del tiempo, eso implica que uno de los ejes es incremental. Al generar valores aleatorios hemos \"roto\" esa lógica y el resultado es un gráfico donde las líneas se cruzan por todas partes."
   ]
  }
 ],
 "metadata": {
  "kernelspec": {
   "display_name": "Python 3",
   "language": "python",
   "name": "python3"
  },
  "language_info": {
   "codemirror_mode": {
    "name": "ipython",
    "version": 3
   },
   "file_extension": ".py",
   "mimetype": "text/x-python",
   "name": "python",
   "nbconvert_exporter": "python",
   "pygments_lexer": "ipython3",
   "version": "3.12.9"
  }
 },
 "nbformat": 4,
 "nbformat_minor": 5
}
