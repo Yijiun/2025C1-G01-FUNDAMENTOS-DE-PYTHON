{
 "cells": [
  {
   "cell_type": "markdown",
   "metadata": {
    "azdata_cell_guid": "e738b43d-fda9-409b-9e4e-f356323e1dbc"
   },
   "source": [
    "# Reto Bootcamp STEAM: Explorando Datos de Pacientes en una Clínica\n",
    "## Fundamentos de Python | UMCA\n",
    "## Profesor: Ing. Andrés Mena Abarca\n",
    "### <mark>**Nombre del estudiante:**</mark> Jose F Gonzalez y Yi Jiun Liu Lin\n",
    "* * *"
   ]
  },
  {
   "attachments": {},
   "cell_type": "markdown",
   "metadata": {
    "azdata_cell_guid": "5a9661f6-9c22-438b-8530-debb92fea2ff"
   },
   "source": [
    "¡Bienvenidos al reto STEAM! Hoy serás parte de un equipo de científicos de datos que está desarrollando una aplicación para analizar los datos de los pacientes de una clínica. Este proyecto se integra dentro del enfoque STEAM, donde no solo usaremos habilidades de programación y análisis, sino también creatividad, visualización y reflexión crítica para mejorar la experiencia de salud.\n",
    "\n",
    "En este reto, utilizaremos **Python** para analizar datos clínicos reales y responder preguntas importantes sobre la salud de los pacientes. También diseñarás soluciones creativas y colaborarás con tus compañeros para mejorar la aplicación.\n",
    "\n",
    "### Contexto:\n",
    "\n",
    "El director de la clínica te ha encargado que construyas un sistema que pueda analizar la información de los pacientes, entender las enfermedades tratadas, los medicamentos recetados y comparar pacientes.\n",
    "\n",
    "### Objetivos del Reto:\n",
    "1. Aplicar estructuras básicas de Python como listas y ciclos.\n",
    "2. Leer datos desde un archivo JSON y almacenarlos en listas.\n",
    "3. Realizar análisis de datos sobre enfermedades y medicamentos.\n",
    "4. Visualizar y comunicar los resultados de manera creativa.\n",
    "\n",
    "### Fase Creativa STEAM:\n",
    "- **Ciencia y Tecnología:** Analizarás los datos clínicos.\n",
    "- **Ingeniería:** Implementarás las soluciones utilizando estructuras de Python.\n",
    "- **Arte y Matemáticas:** Visualizarás los resultados de manera atractiva y clara.\n",
    "\n",
    "¡Comencemos!\n",
    "\n",
    "## Cargar y Leer los Datos de Pacientes"
   ]
  },
  {
   "cell_type": "code",
   "execution_count": 23,
   "metadata": {
    "azdata_cell_guid": "65553934-e4e4-4b44-aa2e-b234d1a33667",
    "language": "python"
   },
   "outputs": [
    {
     "name": "stdout",
     "output_type": "stream",
     "text": [
      "Datos de los pacientes cargados con exito!\n",
      "['123', 89076541, 'Heredia', 'Barva', 'gripe', 'acetaminofen']\n",
      "['321', 31321321, 'Cartago', 'Pacayas', 'gastritis', 'antiacido']\n",
      "['456', 87539856, 'San Jose', 'Pavas', 'tos', 'jarabe']\n",
      "['789', 45522221, 'Limón', 'Puerto Viejo', 'migraña', 'acetaminofen']\n",
      "['345', 45354632, 'Guanacaste', 'Liberia', 'dolor', 'acetaminofen']\n"
     ]
    }
   ],
   "source": [
    "import json #importar la libreria de Json\n",
    "\n",
    "#Cargar el archivo\n",
    "\n",
    "with open('clinica.json', encoding= 'utf-8') as archivo:\n",
    "    datos_pacientes = json.load(archivo)\n",
    "    print('Datos de los pacientes cargados con exito!')\n",
    "    \n",
    "for paciente in datos_pacientes[:5]:\n",
    "    print(paciente)"
   ]
  },
  {
   "attachments": {},
   "cell_type": "markdown",
   "metadata": {
    "azdata_cell_guid": "27d04572-8b5b-46fa-b3ee-4ed3f2939a34",
    "language": "python"
   },
   "source": [
    "## Desafío 1: Análisis Científico - Reporte de Enfermedades Tratadas\n",
    "\n",
    "Tu primer reto es analizar los datos de los pacientes para generar un reporte de las enfermedades tratadas en la clínica. Utiliza listas y ciclos para contar cuántos pacientes han sido tratados por cada enfermedad.\n",
    "\n",
    "### Instrucciones:\n",
    "\n",
    "1. Crea una lista vacía donde almacenarás las enfermedades.\n",
    "2. Recorre los datos de los pacientes y extrae la enfermedad de cada paciente.\n",
    "3. Cuenta cuántos pacientes han sido tratados por cada enfermedad.\n",
    "4. Visualiza los resultados de manera clara utilizando la técnica que elijas (gráficos o tablas).\n",
    "\n",
    "### Preguntas:\n",
    "\n",
    "- ¿Qué enfermedades son las más tratadas en la clínica?\n",
    "- ¿Hay alguna enfermedad que te sorprenda por su prevalencia?\n",
    "\n"
   ]
  },
  {
   "attachments": {},
   "cell_type": "markdown",
   "metadata": {
    "azdata_cell_guid": "4b7c571d-d8f2-4d72-9f79-9718986200eb"
   },
   "source": [
    "### **Paso a Paso para el Estudiante**\n",
    "\n",
    "#### **Paso 1: Crear las Listas**\n",
    "\n",
    "### \n",
    "\n",
    "1. **Objetivo:** Necesitamos dos listas para almacenar:\n",
    "    \n",
    "    - Los nombres de las enfermedades.\n",
    "    - La cantidad de veces que cada enfermedad aparece.\n",
    "2. **Instrucción:**\n",
    "    \n",
    "    - Crea una lista vacía llamada `lista_enfermedades`.\n",
    "    - Crea otra lista vacía llamada `lista_cantidades`."
   ]
  },
  {
   "cell_type": "code",
   "execution_count": 18,
   "metadata": {
    "azdata_cell_guid": "61977840-044f-4cb3-858a-1812c43f3e2b",
    "language": "python"
   },
   "outputs": [],
   "source": [
    "# Lista para almacenar las enfermedades y sus cantidades\n",
    "lista_enfermedades = []\n",
    "frecuencias = []\n"
   ]
  },
  {
   "attachments": {},
   "cell_type": "markdown",
   "metadata": {
    "azdata_cell_guid": "549b6c62-76c6-4412-ae94-4d7a0ebd790d"
   },
   "source": [
    "#### **Paso 2: Recorrer los Datos de los Pacientes**\n",
    "\n",
    "### \n",
    "\n",
    "1. **Objetivo:** Vamos a analizar cada paciente para extraer su enfermedad.\n",
    "    \n",
    "2. **Instrucción:**\n",
    "    \n",
    "    - Usa un bucle `for` para recorrer cada `paciente` en `datos_pacientes` (ya está definida en el código como una lista de listas).\n",
    "    - Dentro del bucle, asigna la enfermedad del paciente (índice `4` de cada lista) a una variable llamada `enfermedad`."
   ]
  },
  {
   "cell_type": "code",
   "execution_count": 28,
   "metadata": {
    "azdata_cell_guid": "eaf15439-71de-42c1-b0d3-c4ee8210cf05",
    "language": "python"
   },
   "outputs": [
    {
     "name": "stdout",
     "output_type": "stream",
     "text": [
      "gripe\n",
      "gastritis\n",
      "tos\n",
      "migraña\n",
      "dolor\n",
      "migraña\n",
      "dolor\n",
      "dolor\n",
      "gripe\n",
      "presion\n"
     ]
    }
   ],
   "source": [
    "# Extraemos la enfermedad del paciente\n",
    "#Puedes imprimir el for para ver los datos que se procesan\n",
    "#   0       1         2          3        4          5\n",
    "#['123', 89076541, 'Heredia', 'Barva', 'gripe', 'acetaminofen']\n",
    "\n",
    "for paciente in datos_pacientes:\n",
    "    enfermedad = paciente[4]\n",
    "    print(enfermedad)\n"
   ]
  },
  {
   "cell_type": "code",
   "execution_count": null,
   "metadata": {},
   "outputs": [],
   "source": []
  },
  {
   "attachments": {},
   "cell_type": "markdown",
   "metadata": {
    "azdata_cell_guid": "d587b0f6-79f4-4a71-bcaf-837bd0c31bee",
    "language": "python"
   },
   "source": [
    "#### **Paso 3: Verificar si la Enfermedad ya Está en la Lista**\n",
    "\n",
    "1. **Objetivo:** Verificar si la enfermedad ya fue registrada.\n",
    "    \n",
    "2. **Instrucción:**\n",
    "    \n",
    "    - Usa un `if` para verificar si la `enfermedad` ya está en `lista_enfermedades`.\n",
    "    - Si **no** está en `lista_enfermedades`, agrega la enfermedad a `lista_enfermedades` y añade `1` a `lista_cantidades` para contarla por primera vez.\n",
    "    - Si **sí** está en `lista_enfermedades`, encuentra la posición (`indice`) de la enfermedad en `lista_enfermedades` y aumenta en `1` el valor en `lista_cantidades` en la misma posición."
   ]
  },
  {
   "cell_type": "code",
   "execution_count": 27,
   "metadata": {
    "azdata_cell_guid": "f5cffccc-7f3a-45f8-b203-53faac8d2ab0",
    "language": "python"
   },
   "outputs": [
    {
     "name": "stdout",
     "output_type": "stream",
     "text": [
      "['gripe', 'gastritis', 'tos', 'migraña', 'dolor', 'presion']\n",
      "[1, 1, 1, 1, 1, 1]\n"
     ]
    }
   ],
   "source": [
    "# Pista: Usa `in` para verificar si la enfermedad ya está en lista_enfermedades.\n",
    "# Pista: Si la enfermedad no está, agrégala a lista_enfermedades y empieza el conteo en lista_cantidades.\n",
    "# Pista: Si la enfermedad ya está, usa `index` para encontrar su posición en lista_enfermedades y suma 1 en lista_cantidades en esa posición.\n",
    "lista_enfermedades = []\n",
    "frecuencias = []\n",
    "\n",
    "for paciente in datos_pacientes:\n",
    "    enfermedad = paciente[4]\n",
    "    if enfermedad in lista_enfermedades:\n",
    "        #La enfermedad ya fue registrada\n",
    "        index = lista_enfermedades.index(enfermedad)\n",
    "        pass\n",
    "    else:\n",
    "        lista_enfermedades.append(enfermedad)\n",
    "        frecuencias.append(1)\n",
    "        \n",
    "print(lista_enfermedades)\n",
    "print(frecuencias)\n",
    "\n"
   ]
  },
  {
   "cell_type": "code",
   "execution_count": null,
   "metadata": {},
   "outputs": [
    {
     "name": "stdout",
     "output_type": "stream",
     "text": [
      "5\n"
     ]
    }
   ],
   "source": []
  },
  {
   "attachments": {},
   "cell_type": "markdown",
   "metadata": {
    "azdata_cell_guid": "2ceed8f4-0a9a-48ac-ba0d-d48dc319ab9f",
    "language": "python"
   },
   "source": [
    "#### **Paso 4: Imprimir el Reporte Final**\n",
    "\n",
    "1. **Objetivo:** Mostrar el número de pacientes con cada enfermedad.\n",
    "    \n",
    "2. **Instrucción:**\n",
    "    \n",
    "    - Usa un bucle `for` para recorrer la lista `lista_enfermedades`.\n",
    "    - En cada iteración, imprime la enfermedad y el número de pacientes (que está en `lista_cantidades` en la misma posición)."
   ]
  },
  {
   "cell_type": "code",
   "execution_count": 29,
   "metadata": {
    "azdata_cell_guid": "5368c6bd-5224-4c6f-a5ad-ef6767750039",
    "language": "python"
   },
   "outputs": [
    {
     "name": "stdout",
     "output_type": "stream",
     "text": [
      "Reporte de enfermedades tratadas:\n",
      "la enfermedadgripe :  1 pacientes\n",
      "la enfermedadgastritis :  1 pacientes\n",
      "la enfermedadtos :  1 pacientes\n",
      "la enfermedadmigraña :  1 pacientes\n",
      "la enfermedaddolor :  1 pacientes\n",
      "la enfermedadpresion :  1 pacientes\n"
     ]
    }
   ],
   "source": [
    "print(\"Reporte de enfermedades tratadas:\")\n",
    "for index in range(len(lista_enfermedades)):\n",
    "    print(f\"la enfermedad{lista_enfermedades[index]} :  {frecuencias[index]} pacientes\")"
   ]
  },
  {
   "attachments": {},
   "cell_type": "markdown",
   "metadata": {
    "azdata_cell_guid": "02262547-dabe-40b9-9ef0-5863dcad648b",
    "language": "python"
   },
   "source": [
    "### **Resumen Completo del Código**\n",
    "\n",
    "En ésta celda resume el código completo que debería tener al final para la solución del ejercicio:"
   ]
  },
  {
   "cell_type": "code",
   "execution_count": 14,
   "metadata": {
    "azdata_cell_guid": "fb7ea25e-c906-4f7e-9265-dd63d3193b54",
    "language": "python"
   },
   "outputs": [],
   "source": [
    "#Esta parte puedes colocar todos los bloques de las celdas anteriores \n"
   ]
  },
  {
   "attachments": {},
   "cell_type": "markdown",
   "metadata": {
    "azdata_cell_guid": "babcfd28-f173-4adb-b593-c5cf58370bc0",
    "language": "python"
   },
   "source": [
    "## Desafío 2: Exploración Tecnológica - Reporte de Medicamentos Recetados\n",
    "\n",
    "Ahora que ya tienes el reporte de las enfermedades tratadas, es momento de explorar qué medicamentos se están recetando en la clínica. Tu tarea es generar un reporte similar al anterior, pero esta vez debes contar cuántos pacientes han recibido cada medicamento.\n",
    "\n",
    "### Instrucciones:\n",
    "\n",
    "1. Almacena los medicamentos recetados en una lista.\n",
    "2. Recorre los datos y cuenta cuántos pacientes han recibido cada medicamento.\n",
    "3. Visualiza los resultados de manera creativa.\n",
    "\n",
    "### Preguntas:\n",
    "\n",
    "- ¿Qué medicamentos son los más recetados?\n",
    "- ¿Cómo podrías optimizar el uso de medicamentos en la clínica?\n",
    "\n",
    "Resultados esperados: \n",
    "\n",
    "```\n",
    "Reporte de medicamentos recetados:\n",
    "acetaminofen: 9 pacientes\n",
    "antiácido: 2 pacientes\n",
    "jarabe: 2 pacientes\n",
    "insulina: 3 pacientes\n",
    "salbutamol: 4 pacientes\n",
    "levotiroxina: 2 pacientes\n",
    "............................................\n",
    "\n",
    "```"
   ]
  },
  {
   "cell_type": "code",
   "execution_count": 52,
   "metadata": {},
   "outputs": [
    {
     "name": "stdout",
     "output_type": "stream",
     "text": [
      "Datos de los pacientes cargados con exito!\n",
      "['116640019', 61727979, 'San José', 'Desamparados', 'gripe', 'acetaminofen']\n",
      "['603240305', 60534319, 'Heredia', 'Santo Domingo', 'gastritis', 'antiácido']\n",
      "['503980535', 70713699, 'Alajuela', 'San Carlos', 'tos', 'jarabe']\n",
      "['702370234', 70693575, 'Cartago', 'Paraíso', 'migraña', 'acetaminofen']\n",
      "['116310912', 88070036, 'San José', 'Curridabat', 'dolor', 'acetaminofen']\n",
      "['604830325', 83155658, 'Puntarenas', 'Osa', 'gripe', 'acetaminofen']\n",
      "['116130052', 64069212, 'Guanacaste', 'Liberia', 'gastritis', 'antiácido']\n",
      "['111860150', 88447416, 'Limón', 'Puerto Viejo', 'diabetes', 'insulina']\n",
      "['110283', 61088556, 'San José', 'Escazú', 'asma', 'salbutamol']\n",
      "['503810832', 83076969, 'Heredia', 'Barva', 'gripe', 'acetaminofen']\n",
      "['114740407', 70112487, 'Cartago', 'Turrialba', 'hipotiroidismo', 'levotiroxina']\n",
      "['205750691', 83349456, 'San José', 'Montes de Oca', 'alergias', 'loratadina']\n",
      "['215487963', 78823654, 'Guanacaste', 'Nicoya', 'migraña', 'acetaminofen']\n",
      "['318540762', 65892345, 'Alajuela', 'Grecia', 'presión alta', 'amlodipino']\n",
      "['457821904', 72908475, 'Cartago', 'Oreamuno', 'dolor de espalda', 'ibuprofeno']\n",
      "['602948176', 61928374, 'Heredia', 'Belén', 'ansiedad', 'clonazepam']\n",
      "['703219485', 63487294, 'Limón', 'Guápiles', 'diabetes', 'insulina']\n",
      "['825613092', 72845312, 'Puntarenas', 'Coto Brus', 'asma', 'salbutamol']\n",
      "['908124753', 71239485, 'San José', 'Moravia', 'alergias', 'cetirizina']\n",
      "['103927564', 63749562, 'Heredia', 'San Isidro', 'gastritis', 'omeprazol']\n",
      "['200145879', 78546932, 'Guanacaste', 'Santa Cruz', 'presión alta', 'losartán']\n",
      "['305946278', 65849371, 'Puntarenas', 'Golfito', 'tos', 'jarabe']\n",
      "['412598764', 73284956, 'San José', 'Tibás', 'dolor de espalda', 'paracetamol']\n",
      "['507812394', 69231875, 'Cartago', 'El Guarco', 'ansiedad', 'diazepam']\n",
      "['602938574', 61249375, 'Limón', 'Siquirres', 'diabetes', 'metformina']\n",
      "['715498372', 74938261, 'Alajuela', 'Atenas', 'asma', 'fluticasona']\n",
      "['823654091', 69829375, 'San José', 'Pérez Zeledón', 'alergias', 'loratadina']\n",
      "['912475683', 73485629, 'Cartago', 'Jiménez', 'hipotiroidismo', 'levotiroxina']\n",
      "['104598273', 68597312, 'Heredia', 'San Rafael', 'gripe', 'acetaminofen']\n",
      "['205963184', 71928364, 'Puntarenas', 'Esparza', 'gastritis', 'pantoprazol']\n",
      "['301456897', 64395721, 'San José', 'Alajuelita', 'migraña', 'ibuprofeno']\n",
      "['401598723', 71928574, 'Limón', 'Matina', 'presión alta', 'enalapril']\n",
      "['510298374', 62938475, 'Guanacaste', 'Bagaces', 'asma', 'salbutamol']\n",
      "['621095837', 75928346, 'Cartago', 'Turrialba', 'diabetes', 'insulina']\n",
      "['732145609', 68495731, 'Heredia', 'Flores', 'dolor', 'acetaminofen']\n",
      "['802149357', 72938475, 'San José', 'Goicoechea', 'gastritis', 'omeprazol']\n",
      "['913256748', 65849371, 'Puntarenas', 'Buenos Aires', 'presión alta', 'amlodipino']\n",
      "['102548397', 67293857, 'Limón', 'Talamanca', 'asma', 'salbutamol']\n",
      "['204985763', 74583925, 'Guanacaste', 'Carrillo', 'gripe', 'acetaminofen']\n"
     ]
    }
   ],
   "source": [
    "import json #importar la libreria de Json\n",
    "\n",
    "#Cargar el archivo\n",
    "\n",
    "with open('clinica_intermedio.json', encoding= 'utf-8') as archivo:\n",
    "    datos_pacientes_v2 = json.load(archivo)\n",
    "    print('Datos de los pacientes cargados con exito!')\n",
    "    \n",
    "for paciente in datos_pacientes_v2:\n",
    "    print(paciente)"
   ]
  },
  {
   "cell_type": "code",
   "execution_count": 57,
   "metadata": {
    "azdata_cell_guid": "85051147-a5a3-40e9-a423-179ac721be03",
    "language": "python"
   },
   "outputs": [
    {
     "name": "stdout",
     "output_type": "stream",
     "text": [
      "acetaminofen: 9\n",
      "antiácido: 2\n",
      "jarabe: 2\n",
      "insulina: 3\n",
      "salbutamol: 4\n",
      "levotiroxina: 2\n",
      "loratadina: 2\n",
      "amlodipino: 2\n",
      "ibuprofeno: 2\n",
      "clonazepam: 1\n",
      "cetirizina: 1\n",
      "omeprazol: 2\n",
      "losartán: 1\n",
      "paracetamol: 1\n",
      "diazepam: 1\n",
      "metformina: 1\n",
      "fluticasona: 1\n",
      "pantoprazol: 1\n",
      "enalapril: 1\n"
     ]
    }
   ],
   "source": [
    "# Listas para almacenar los medicamentos y sus frecuencias\n",
    "medicamentos = []\n",
    "frecuencias = []\n",
    "\n",
    "\n",
    "for paciente in datos_pacientes_v2:\n",
    "    receta = paciente [5]\n",
    "    if receta in medicamentos:\n",
    "        index = medicamentos.index(receta)\n",
    "        frecuencias[index] +=1\n",
    "      \n",
    "    else: \n",
    "        medicamentos.append(receta)\n",
    "        frecuencias.append(1)\n",
    "\n",
    "# for index in range(len(medicamentos)):\n",
    "#     print(f\"El medicamento {medicamentos[index]} :  {frecuencias[index]} pacientes\")\n",
    "    \n",
    "\n",
    "# print(f\"¿Qué medicamentos son los más recetados?\", \"Acetaminofen\") #Consultar por formula para dar respuesta automática \n",
    "# print(f\"¿Cómo podrías optimizar el uso de medicamentos en la clínica?\", \"Con la frecuencia de lo recetado a los pacientes para tener en stock cuando se necesite\")\n",
    "\n",
    "\n",
    "for index, med in enumerate(medicamentos):\n",
    "    print(f\"{med}: {frecuencias[index]}\")\n"
   ]
  },
  {
   "attachments": {},
   "cell_type": "markdown",
   "metadata": {
    "azdata_cell_guid": "e75d82f8-c903-459c-b6b4-3cdc9d23ac5c"
   },
   "source": [
    "## Desafío 3: Ingeniería - Comparar Pacientes por Identificación\n",
    "\n",
    "Este desafío te permitirá comparar dos pacientes de la clínica en base a sus identificaciones. Tu objetivo es averiguar:\n",
    "\n",
    "1. **¿Qué enfermedades tienen en común?**\n",
    "2. **¿Qué medicamentos toman en común?**\n",
    "\n",
    "### Instrucciones:\n",
    "\n",
    "1. Solicita dos identificaciones de pacientes al usuario.\n",
    "2. Extrae las enfermedades y medicamentos de esos dos pacientes.\n",
    "3. Compara las enfermedades y medicamentos y muestra los resultados.\n",
    "\n",
    "### Preguntas:\n",
    "\n",
    "- ¿Qué enfermedades y medicamentos son comunes en los pacientes comparados?\n",
    "- ¿Qué información adicional podrías incluir para mejorar esta comparación?\n"
   ]
  },
  {
   "cell_type": "code",
   "execution_count": 77,
   "metadata": {
    "azdata_cell_guid": "26417c6c-aa5d-41a9-b7c7-fa268a476a6d",
    "language": "python",
    "tags": []
   },
   "outputs": [
    {
     "name": "stdout",
     "output_type": "stream",
     "text": [
      "['migraña', 'acetaminofen']\n",
      "['migraña', 'acetaminofen']\n"
     ]
    },
    {
     "data": {
      "text/plain": [
       "\"\\nPrueba con 702370234 - 215487963\\nSalida esperada\\nEnfermedades en común entre 702370234 y 215487963: ['migraña']\\nMedicamentos en común entre 702370234 y 215487963: ['acetaminofen']\\n\""
      ]
     },
     "execution_count": 77,
     "metadata": {},
     "output_type": "execute_result"
    }
   ],
   "source": [
    "# Pedimos las identificaciones de los dos pacientes\n",
    "\n",
    "# for paciente in datos_pacientes:\n",
    "#     print(paciente)\n",
    "\n",
    "# Pedir la identidad 1, identidad 2 \n",
    "\n",
    "paciente_1 = input(\"Ingrese el numero de paciente 1:\")\n",
    "paciente_2 = input(\"Ingrese el numero de paciente 2:\")\n",
    "\n",
    "for fila in range(len(datos_pacientes_v2)):\n",
    "    if datos_pacientes_v2[fila][0] == paciente_1:\n",
    "        p1 = datos_pacientes_v2[fila]\n",
    "        \n",
    "    if datos_pacientes_v2[fila][0] == paciente_2:    \n",
    "        p2 = datos_pacientes_v2[fila]\n",
    "\n",
    "print(p1[4:6])  \n",
    "print(p2[4:6])      \n",
    "\n",
    "# Extrae las enfermedades y medicamentos de esos dos pacientes.\n",
    "# for fila in range(len(datos_pacientes_v2)):\n",
    "#     if datos_pacientes_v2[fila][0] == paciente_1:\n",
    "#         print(datos_pacientes_v2[fila])\n",
    "#     if datos_pacientes_v2[fila][0] == paciente_2:\n",
    "#         print(datos_pacientes_v2[fila])     \n",
    "# Compara las enfermedades y medicamentos y muestra los resultados.\n",
    "\n",
    "\n",
    "\"\"\"\n",
    "Prueba con 702370234 - 215487963\n",
    "Salida esperada\n",
    "Enfermedades en común entre 702370234 y 215487963: ['migraña']\n",
    "Medicamentos en común entre 702370234 y 215487963: ['acetaminofen']\n",
    "\"\"\""
   ]
  },
  {
   "attachments": {},
   "cell_type": "markdown",
   "metadata": {
    "azdata_cell_guid": "ac71941a-8e0d-4ea1-98ff-b293ecd8defb",
    "language": "python"
   },
   "source": [
    "## Desafío Final: Arte y Matemáticas - Visualización Creativa y Reflexión\n",
    "\n",
    "Has llegado al último desafío, ¡felicidades! Ahora es momento de presentar tus resultados de una forma creativa. Tu tarea será utilizar **gráficos**, **tablas** o incluso **arte digital** para mostrar tus descubrimientos sobre los datos de los pacientes de la clínica.\n",
    "\n",
    "\n",
    "### Preguntas:\n",
    "\n",
    "- ¿Qué patrones encontraste en los datos?\n",
    "- ¿Cómo podrías usar estos análisis para mejorar la atención de los pacientes?"
   ]
  },
  {
   "cell_type": "code",
   "execution_count": null,
   "metadata": {},
   "outputs": [
    {
     "name": "stdout",
     "output_type": "stream",
     "text": [
      "['San José', 'Heredia', 'Alajuela', 'Cartago', 'Puntarenas', 'Guanacaste', 'Limón']\n",
      "[9, 6, 3, 6, 5, 5, 5]\n"
     ]
    },
    {
     "ename": "",
     "evalue": "",
     "output_type": "error",
     "traceback": [
      "\u001b[1;31mThe Kernel crashed while executing code in the current cell or a previous cell. \n",
      "\u001b[1;31mPlease review the code in the cell(s) to identify a possible cause of the failure. \n",
      "\u001b[1;31mClick <a href='https://aka.ms/vscodeJupyterKernelCrash'>here</a> for more info. \n",
      "\u001b[1;31mView Jupyter <a href='command:jupyter.viewOutput'>log</a> for further details."
     ]
    }
   ],
   "source": [
    "provincias = []\n",
    "habitantes = []\n",
    "\n",
    "for pacientes in datos_pacientes_v2:\n",
    "    provincia = pacientes[2] #guarda cual es provincia de paciente\n",
    "    if provincia in provincias:\n",
    "        index = provincias.index(provincia) #posicion de valor\n",
    "        # conteo  = habitantes[index] + 1\n",
    "        # habitantes[index] = conteo\n",
    "        habitantes[index] += 1\n",
    "    else:\n",
    "        provincias.append(provincia)\n",
    "        habitantes.append(1)\n",
    "\n",
    "print(provincias)\n",
    "print(habitantes)\n"
   ]
  },
  {
   "cell_type": "code",
   "execution_count": null,
   "metadata": {},
   "outputs": [],
   "source": []
  },
  {
   "cell_type": "code",
   "execution_count": 100,
   "metadata": {},
   "outputs": [
    {
     "data": {
      "image/png": "[encoded data removed]",
      "text/plain": [
       "<Figure size 640x480 with 1 Axes>"
      ]
     },
     "metadata": {},
     "output_type": "display_data"
    }
   ],
   "source": [
    "import matplotlib.pyplot as plt\n",
    "\n",
    "\n",
    "\n",
    "plt.plot(provincias, habitantes, marker='o')\n",
    "plt.title('Habitantes por provincia')\n",
    "plt.xlabel('Provincias')\n",
    "plt.ylabel('Numero Habitantes')\n",
    "plt.show()"
   ]
  }
 ],
 "metadata": {
  "kernelspec": {
   "display_name": "Python 3",
   "language": "python",
   "name": "python3"
  },
  "language_info": {
   "codemirror_mode": {
    "name": "ipython",
    "version": 3
   },
   "file_extension": ".py",
   "mimetype": "text/x-python",
   "name": "python",
   "nbconvert_exporter": "python",
   "pygments_lexer": "ipython3",
   "version": "3.12.9"
  }
 },
 "nbformat": 4,
 "nbformat_minor": 2
}
