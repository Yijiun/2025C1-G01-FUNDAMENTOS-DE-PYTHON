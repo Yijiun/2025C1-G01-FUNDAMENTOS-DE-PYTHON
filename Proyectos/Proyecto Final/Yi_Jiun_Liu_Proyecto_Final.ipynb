{
    "cells": [
        {
            "attachments": {},
            "cell_type": "markdown",
            "metadata": {
                "azdata_cell_guid": "43094d38-2acc-463a-bdf3-97ba90623fe5",
                "id": "a62202dd"
            },
            "source": [
                "# 📊 Caso de análisis: Emisiones de dióxido de carbono por país (1975-2017)\n",
                "## 🧠 Objetivo:\n",
                "Los estudiantes deben analizar la evolución de las emisiones de CO₂ en varios países desde 1975 hasta 2017, distinguiendo entre:\n",
                "\n",
                "- Emisiones totales: Miden la cantidad total de CO₂ emitido en un país.\n",
                "\n",
                "- Emisiones per cápita: Indican cuántas toneladas métricas de CO₂ emite, en promedio, una persona en ese país."
            ]
        },
        {
            "attachments": {},
            "cell_type": "markdown",
            "metadata": {
                "azdata_cell_guid": "aaf7af2f-c9dd-4e9e-9de1-6543ad2e0064"
            },
            "source": [
                "## <mark>Estudiante: \\>Yi Jiun Liu</mark>"
            ]
        },
        {
            "cell_type": "markdown",
            "metadata": {
                "azdata_cell_guid": "5d6834bd-ea61-4f0a-b586-a118753e31a9",
                "id": "e21e6b1c"
            },
            "source": [
                "## Contexto\n"
            ]
        },
        {
            "cell_type": "markdown",
            "metadata": {
                "azdata_cell_guid": "5b449223-cfd9-4324-8796-a7688878110c",
                "id": "c4c7df65"
            },
            "source": [
                "🌍 Análisis de Emisiones de CO₂ – Caso Práctico\n",
                "📁 Archivo: Carbon_Dioxide_Emission_Estimates.csv\n",
                "Contiene datos de emisiones de dióxido de carbono (CO₂) de varios países entre 1975 y 2017.\n",
                "\n",
                "🧾 Estructura de los datos\n",
                "- Country: País\n",
                "\n",
                "- Year: Año\n",
                "\n",
                "- Type: Tipo de emisión:\n",
                "\n",
                "    * Emisiones totales (kilotoneladas métricas)\n",
                "\n",
                "    * Emisiones per cápita (toneladas métricas por persona)\n",
                "\n",
                "- Value: Valor numérico de la emisión\n",
                "\n",
                "🔍 Tipos de emisiones\n",
                "- Totales: CO₂ emitido por todo el país (kt)\n",
                "\n",
                "- Per cápita: CO₂ promedio por persona (t CO₂/persona)\n",
                "\n",
                "    - Se calcula dividiendo emisiones totales por la población"
            ]
        },
        {
            "cell_type": "code",
            "execution_count": 18,
            "metadata": {},
            "outputs": [
                {
                    "name": "stdout",
                    "output_type": "stream",
                    "text": [
                        "       Country  Year                                               Type  \\\n",
                        "0      Albania  1975  Emisiones (kilotoneladas métricas de dióxido d...   \n",
                        "1      Albania  1985  Emisiones (kilotoneladas métricas de dióxido d...   \n",
                        "2      Albania  1995  Emisiones (kilotoneladas métricas de dióxido d...   \n",
                        "3      Albania  2005  Emisiones (kilotoneladas métricas de dióxido d...   \n",
                        "4      Albania  2010  Emisiones (kilotoneladas métricas de dióxido d...   \n",
                        "...        ...   ...                                                ...   \n",
                        "2127  Zimbabwe  2005  Emisiones per capita (toneladas métricas de di...   \n",
                        "2128  Zimbabwe  2010  Emisiones per capita (toneladas métricas de di...   \n",
                        "2129  Zimbabwe  2015  Emisiones per capita (toneladas métricas de di...   \n",
                        "2130  Zimbabwe  2016  Emisiones per capita (toneladas métricas de di...   \n",
                        "2131  Zimbabwe  2017  Emisiones per capita (toneladas métricas de di...   \n",
                        "\n",
                        "         Value  \n",
                        "0     4338.334  \n",
                        "1     6929.926  \n",
                        "2     1848.549  \n",
                        "3     3825.184  \n",
                        "4     3930.295  \n",
                        "...        ...  \n",
                        "2127     0.794  \n",
                        "2128     0.672  \n",
                        "2129     0.749  \n",
                        "2130     0.642  \n",
                        "2131     0.588  \n",
                        "\n",
                        "[2132 rows x 4 columns]\n"
                    ]
                }
            ],
            "source": [
                "#Importa el CSV como un DataFrame\n",
                "\n",
                "import pandas as pd\n",
                "\n",
                "archivo = 'Estimaciones_Emisiones_Dioxido_Carbono.csv'\n",
                "\n",
                "df = pd.read_csv(archivo)\n",
                "\n",
                "\n",
                "print(df)\n"
            ]
        },
        {
            "cell_type": "markdown",
            "metadata": {
                "azdata_cell_guid": "32151a06-fbc4-4fc0-9810-bdd34abdb6fd",
                "id": "352UFM-aEWCT"
            },
            "source": [
                "# Pregunta 0\n",
                "\n",
                "1. Crear un dataframe con el nombre de variable 'df_emisions_co2' usando únicamente las filas cuya columna 'Type' tiene el valor 'Emisiones totales de CO₂ emitidas por el país'\n",
                "\n",
                "2. Crear un dataframe con el nombre de variable 'df_emisions_co2_per_capita' usando únicamente las filas cuya columna 'Type' tiene el valor 'Emisiones promedio de CO₂ emitidas por habitante'."
            ]
        },
        {
            "cell_type": "code",
            "execution_count": 66,
            "metadata": {},
            "outputs": [
                {
                    "name": "stdout",
                    "output_type": "stream",
                    "text": [
                        "Country                                              Albania\n",
                        "Year                                                    1975\n",
                        "Type       Emisiones (kilotoneladas métricas de dióxido d...\n",
                        "Value                                               4338.334\n",
                        "Name: 0, dtype: object\n"
                    ]
                }
            ],
            "source": [
                "#Crea un copia del original filtrado como df_emisions_co2\n",
                "df_emisions_co2 = df[df['Type'] == 'Emisiones (kilotoneladas métricas de dióxido de carbono)' ]\n",
                "\n",
                "print(df_emisions_co2.iloc[0])"
            ]
        },
        {
            "cell_type": "code",
            "execution_count": 24,
            "metadata": {},
            "outputs": [
                {
                    "name": "stdout",
                    "output_type": "stream",
                    "text": [
                        "Country                                              Albania\n",
                        "Year                                                    1975\n",
                        "Type       Emisiones per capita (toneladas métricas de di...\n",
                        "Value                                                  1.804\n",
                        "Name: 8, dtype: object\n"
                    ]
                }
            ],
            "source": [
                "#Crea un copia del original filtrado como df_emisions_co2_per_capita\n",
                "df_emisions_co2_per_capita = df[df['Type'] == 'Emisiones per capita (toneladas métricas de dióxido de carbono)']\n",
                "\n",
                "print(df_emisions_co2_per_capita.iloc[0])"
            ]
        },
        {
            "cell_type": "markdown",
            "metadata": {
                "azdata_cell_guid": "66dbee89-6a74-42d6-b532-a95779ccc82a",
                "id": "d6bd6661"
            },
            "source": [
                "# Pregunta 1"
            ]
        },
        {
            "cell_type": "markdown",
            "metadata": {
                "azdata_cell_guid": "b30cf472-64d8-453a-b581-4d01915e9a38",
                "id": "3299b6b5"
            },
            "source": [
                "Cuántas filas tiene el dataframe 'df_emisions_co2'?"
            ]
        },
        {
            "cell_type": "code",
            "execution_count": 25,
            "metadata": {
                "azdata_cell_guid": "63fba01e-a296-4e37-badf-df51ee463964",
                "id": "f02d60cc",
                "language": "python"
            },
            "outputs": [
                {
                    "name": "stdout",
                    "output_type": "stream",
                    "text": [
                        "El número de filas en el DataFrame es: 1066\n"
                    ]
                }
            ],
            "source": [
                "# Coloque el código que responda a la pregunta aqui\n",
                "conteo_filas = df_emisions_co2.shape[0]\n",
                "print(f\"El número de filas en el DataFrame es: {conteo_filas}\")"
            ]
        },
        {
            "cell_type": "markdown",
            "metadata": {
                "azdata_cell_guid": "5f8f7bed-99e7-4c3b-b621-d430915552a9",
                "id": "880f891d"
            },
            "source": [
                "# Pregunta 2"
            ]
        },
        {
            "cell_type": "markdown",
            "metadata": {
                "azdata_cell_guid": "3025751b-734d-491a-a0f2-e454076155fa",
                "id": "34700c9d"
            },
            "source": [
                "Cuál en el valor más alto de emisiones (en general) usando el dataframe 'df_emisions_co2'?"
            ]
        },
        {
            "cell_type": "code",
            "execution_count": 67,
            "metadata": {
                "azdata_cell_guid": "675d06d0-c52d-4848-8c84-b3503476d7e3",
                "id": "24bdf93a",
                "language": "python"
            },
            "outputs": [
                {
                    "name": "stdout",
                    "output_type": "stream",
                    "text": [
                        "El valor maximo del Dataframe es : 9257933.9\n"
                    ]
                }
            ],
            "source": [
                "# Coloque el código que responda a la pregunta aqui exactamente lo que se pregunta\n",
                "maximo_valor = df_emisions_co2['Value'].max()\n",
                "\n",
                "print(\"El valor maximo del Dataframe es :\", maximo_valor)"
            ]
        },
        {
            "cell_type": "markdown",
            "metadata": {
                "azdata_cell_guid": "97637f7a-fb3b-4b24-a6e8-769427d8c984",
                "id": "7ebd3621"
            },
            "source": [
                "# Pregunta 3"
            ]
        },
        {
            "cell_type": "markdown",
            "metadata": {
                "azdata_cell_guid": "4f9d7b44-d0e8-4705-8fa0-9a84d56774cf",
                "id": "eb81f1c8"
            },
            "source": [
                "Cuántos países (Countries) hay en el dataframe 'df_emisions_co2'?"
            ]
        },
        {
            "cell_type": "code",
            "execution_count": 31,
            "metadata": {
                "azdata_cell_guid": "207fdf39-e7dd-4ac4-b3f4-a129a75f2a6d",
                "id": "4f60454b",
                "language": "python"
            },
            "outputs": [
                {
                    "name": "stdout",
                    "output_type": "stream",
                    "text": [
                        "El numero de paises es:  142\n"
                    ]
                }
            ],
            "source": [
                "# Coloque el código que responda a la pregunta aqui exactamente lo que se pregunta\n",
                "count_countries = df_emisions_co2['Country'].nunique()\n",
                "\n",
                "print('El numero de paises es: ', count_countries)"
            ]
        },
        {
            "cell_type": "code",
            "execution_count": 35,
            "metadata": {
                "azdata_cell_guid": "52f1ec4f-654f-43c8-a541-2fe225b3a476",
                "id": "2f46faa0",
                "language": "python"
            },
            "outputs": [
                {
                    "name": "stdout",
                    "output_type": "stream",
                    "text": [
                        "La lista de paises: ['Albania' 'Algeria' 'Angola' 'Argentina' 'Armenia' 'Australia' 'Austria'\n",
                        " 'Azerbaijan' 'Bahrain' 'Bangladesh' 'Belarus' 'Belgium' 'Benin'\n",
                        " 'Bolivia (Plurin. State of)' 'Bosnia and Herzegovina' 'Botswana' 'Brazil'\n",
                        " 'Brunei Darussalam' 'Bulgaria' 'Cambodia' 'Cameroon' 'Canada' 'Chile'\n",
                        " 'China' 'China Hong Kong SAR' 'Colombia' 'Congo' 'Costa Rica'\n",
                        " 'Côte d’Ivoire' 'Croatia' 'Cuba' 'Curaçao' 'Cyprus' 'Czechia'\n",
                        " \"Dem. People's Rep. Korea\" 'Dem. Rep. of the Congo' 'Denmark'\n",
                        " 'Dominican Republic' 'Ecuador' 'Egypt' 'El Salvador' 'Eritrea' 'Estonia'\n",
                        " 'Ethiopia' 'Finland' 'France' 'Gabon' 'Georgia' 'Germany' 'Ghana'\n",
                        " 'Gibraltar' 'Greece' 'Guatemala' 'Haiti' 'Honduras' 'Hungary' 'Iceland'\n",
                        " 'India' 'Indonesia' 'Iran (Islamic Republic of)' 'Iraq' 'Ireland'\n",
                        " 'Israel' 'Italy' 'Jamaica' 'Japan' 'Jordan' 'Kazakhstan' 'Kenya' 'Kosovo'\n",
                        " 'Kuwait' 'Kyrgyzstan' 'Latvia' 'Lebanon' 'Libya' 'Lithuania' 'Luxembourg'\n",
                        " 'Malaysia' 'Malta' 'Mauritius' 'Mexico' 'Mongolia' 'Montenegro' 'Morocco'\n",
                        " 'Mozambique' 'Myanmar' 'Namibia' 'Nepal' 'Netherlands' 'New Zealand'\n",
                        " 'Nicaragua' 'Niger' 'Nigeria' 'Norway' 'Oman' 'Pakistan' 'Panama'\n",
                        " 'Paraguay' 'Peru' 'Philippines' 'Poland' 'Portugal' 'Qatar'\n",
                        " 'Republic of Korea' 'Republic of Moldova' 'Romania' 'Russian Federation'\n",
                        " 'Saudi Arabia' 'Senegal' 'Serbia' 'Singapore' 'Slovakia' 'Slovenia'\n",
                        " 'South Africa' 'South Sudan' 'Spain' 'Sri Lanka' 'Sudan' 'Suriname'\n",
                        " 'Sweden' 'Switzerland' 'Syrian Arab Republic' 'Tajikistan' 'Thailand'\n",
                        " 'North Macedonia' 'Togo' 'Trinidad and Tobago' 'Tunisia' 'Turkey'\n",
                        " 'Turkmenistan' 'Ukraine' 'United Arab Emirates' 'United Kingdom'\n",
                        " 'United Rep. of Tanzania' 'United States of America' 'Uruguay'\n",
                        " 'Uzbekistan' 'Venezuela (Boliv. Rep. of)' 'Viet Nam' 'Yemen' 'Zambia'\n",
                        " 'Zimbabwe']\n"
                    ]
                }
            ],
            "source": [
                "#Imprima un lista con todos los paises\n",
                "country_list = df_emisions_co2['Country'].unique()\n",
                "\n",
                "print('La lista de paises:',country_list)"
            ]
        },
        {
            "cell_type": "markdown",
            "metadata": {
                "azdata_cell_guid": "30e5c2d6-95aa-4bda-ad89-2b581a214d82",
                "id": "1e40352a"
            },
            "source": [
                "# Pregunta 4"
            ]
        },
        {
            "cell_type": "markdown",
            "metadata": {
                "azdata_cell_guid": "d4c1a6a0-d184-4feb-9c6e-a934c52d0343",
                "id": "80c46908"
            },
            "source": [
                "Cuál es el país que tiene mayor emisiones usando el dataframe 'df_emisions_co2'?"
            ]
        },
        {
            "cell_type": "code",
            "execution_count": 42,
            "metadata": {
                "azdata_cell_guid": "ee5ff21c-8288-42a9-9212-4d88ff639e85",
                "id": "e6df7d42",
                "language": "python"
            },
            "outputs": [
                {
                    "name": "stdout",
                    "output_type": "stream",
                    "text": [
                        "El pais con la mayor cantidad de emisiones es:  China\n"
                    ]
                }
            ],
            "source": [
                "# Coloque el código que responda a la pregunta aqui exactamente lo que se pregunta\n",
                "suma_values =  df_emisions_co2.groupby('Country')['Value'].sum()\n",
                "\n",
                "print('El pais con la mayor cantidad de emisiones es: ',suma_values.idxmax())"
            ]
        },
        {
            "cell_type": "markdown",
            "metadata": {
                "azdata_cell_guid": "da6c194b-ecdd-42b0-82ca-210d6b74f57f",
                "id": "26c97fde"
            },
            "source": [
                "# Pregunta 5"
            ]
        },
        {
            "cell_type": "markdown",
            "metadata": {
                "azdata_cell_guid": "a5cf8867-358a-40cb-9933-027dd8e06aa3",
                "id": "541f44ca"
            },
            "source": [
                "Cuál es el año que tiene mayor emisiones para el país de Spain usando el dataframe 'df_emisions_co2'?"
            ]
        },
        {
            "cell_type": "code",
            "execution_count": 71,
            "metadata": {
                "azdata_cell_guid": "10e7e0fe-162a-4b2a-a01e-db2bd04b6865",
                "id": "c32f62d1",
                "language": "python"
            },
            "outputs": [
                {
                    "name": "stdout",
                    "output_type": "stream",
                    "text": [
                        "El año que tiene mayor emisiones para el país de Spain:  2017\n"
                    ]
                }
            ],
            "source": [
                "# Coloque el código que responda a la pregunta aqui exactamente lo que se pregunta\n",
                "num_mayor = df_emisions_co2[df_emisions_co2['Country'] == 'Spain'].max()['Year']\n",
                "\n",
                "print('El año que tiene mayor emisiones para el país de Spain: ',num_mayor)"
            ]
        },
        {
            "cell_type": "markdown",
            "metadata": {
                "azdata_cell_guid": "78a2c35d-5ca9-4cc2-9890-05b367218238",
                "id": "55ce4564"
            },
            "source": [
                "# Pregunta 6"
            ]
        },
        {
            "cell_type": "markdown",
            "metadata": {
                "azdata_cell_guid": "048ff587-0368-4c8c-930d-678786aa18c3",
                "id": "3473e4f2"
            },
            "source": [
                "Cuáles son los años que se tiene registros para el dataframe 'df_emisions_co2_per_capita'?\n",
                "\n",
                "Entrege una lista con los años sin repetirse"
            ]
        },
        {
            "cell_type": "code",
            "execution_count": 61,
            "metadata": {
                "azdata_cell_guid": "75d9cbc6-d254-49d4-8cfc-7b0f74456608",
                "id": "5ad50924",
                "language": "python"
            },
            "outputs": [
                {
                    "name": "stdout",
                    "output_type": "stream",
                    "text": [
                        "Los años registrados son:  [1975 1985 1995 2005 2010 2015 2016 2017]\n"
                    ]
                }
            ],
            "source": [
                "# Coloque el código que responda a la pregunta aqui exactamente lo que se pregunta\n",
                "register_years = df_emisions_co2_per_capita['Year'].unique()\n",
                "\n",
                "print('Los años registrados son: ', register_years)"
            ]
        },
        {
            "cell_type": "markdown",
            "metadata": {
                "azdata_cell_guid": "8cee75a7-4fcc-47eb-883a-641aa900bc51",
                "id": "18fa522e"
            },
            "source": [
                "# Pregunta 7"
            ]
        },
        {
            "cell_type": "markdown",
            "metadata": {
                "azdata_cell_guid": "8532f291-3bd2-4da4-9eb3-7ac69e49b4a5",
                "id": "2747ce42"
            },
            "source": [
                "Cuántas son las emisiones en 'kilotoneladas métricas' en total usando todos los países para usando el dataframe 'df_emisions_co2'?\n"
            ]
        },
        {
            "cell_type": "code",
            "execution_count": 68,
            "metadata": {
                "azdata_cell_guid": "3b4710af-d857-49ce-9b19-931839541d39",
                "id": "e8cbd117",
                "language": "python"
            },
            "outputs": [
                {
                    "name": "stdout",
                    "output_type": "stream",
                    "text": [
                        "195028250.41599998\n"
                    ]
                }
            ],
            "source": [
                "# Coloque el código que responda a la pregunta aqui exactamente lo que se pregunta\n",
                "total_metricas = df_emisions_co2['Value'].sum()\n",
                "\n",
                "print(total_metricas)"
            ]
        },
        {
            "cell_type": "markdown",
            "metadata": {
                "azdata_cell_guid": "ddfe093b-e52f-4379-8062-efedfbddb684",
                "id": "42aa86db"
            },
            "source": [
                "# Pregunta 8"
            ]
        },
        {
            "cell_type": "markdown",
            "metadata": {
                "azdata_cell_guid": "ce742599-a5c4-41c7-87f1-7a881676c09f",
                "id": "a303974d"
            },
            "source": [
                "Cuántas son las emisiones en 'kilotoneladas métricas' sólo para Albania usando el dataframe 'df_emisions_co2'?\n"
            ]
        },
        {
            "cell_type": "code",
            "execution_count": 72,
            "metadata": {
                "azdata_cell_guid": "86c46d24-2812-47a3-aa64-fd2d6981cf9a",
                "id": "181ab815",
                "language": "python"
            },
            "outputs": [
                {
                    "name": "stdout",
                    "output_type": "stream",
                    "text": [
                        "Los kilotoneladas métricas de Albania : 32713.283000000003\n"
                    ]
                }
            ],
            "source": [
                "# Coloque el código que responda a la pregunta aqui exactamente lo que se pregunta\n",
                "albania_metricas = df_emisions_co2[df_emisions_co2['Country'] == 'Albania'].sum()['Value']\n",
                "\n",
                "print('Los kilotoneladas métricas de Albania :', albania_metricas)"
            ]
        },
        {
            "cell_type": "markdown",
            "metadata": {
                "azdata_cell_guid": "5d5b3bfb-2643-45d0-ba92-b53affb67c17",
                "id": "d084c9f3"
            },
            "source": [
                "# Pregunta 9"
            ]
        },
        {
            "cell_type": "markdown",
            "metadata": {
                "azdata_cell_guid": "acd10e28-cde4-48c3-bba9-eee6323b06cc",
                "id": "ae9cebff"
            },
            "source": [
                "Cuántas son las emisiones totales en 'libras' sólo para Costa Rica usando el dataframe 'df_emisions_co2'?\n"
            ]
        },
        {
            "cell_type": "code",
            "execution_count": 84,
            "metadata": {
                "azdata_cell_guid": "8c372164-c8f6-4e72-9fd3-2b7c1eaf0499",
                "id": "ee97d492",
                "language": "python"
            },
            "outputs": [
                {
                    "name": "stdout",
                    "output_type": "stream",
                    "text": [
                        "Las emisiones en Costa Rica en Kilotoneladas : 42223.107\n",
                        "Las emisiones en Costa Rica en libras:  93086016856993.1\n"
                    ]
                }
            ],
            "source": [
                "# Coloque el código que responda a la pregunta aqui exactamente lo que se pregunta\n",
                "emisiones = df_emisions_co2[df_emisions_co2['Country'] == 'Costa Rica'].sum()['Value']\n",
                "\n",
                "print('Las emisiones en Costa Rica en Kilotoneladas :', emisiones)\n",
                "\n",
                "emisiones_libras = emisiones * 2204622621.85\n",
                "\n",
                "print('Las emisiones en Costa Rica en libras: ', emisiones_libras)\n",
                "\n"
            ]
        },
        {
            "cell_type": "markdown",
            "metadata": {
                "azdata_cell_guid": "e505d100-2c39-45a3-9c7d-70c1f83b268d",
                "id": "eb6dfc54"
            },
            "source": [
                "# Pregunta 10"
            ]
        },
        {
            "cell_type": "markdown",
            "metadata": {
                "azdata_cell_guid": "cfe25701-d219-459b-a108-75787ee1f8ae",
                "id": "5862817e"
            },
            "source": [
                "Para sólo 'Costa Rica' y suponiendo que las emisiones se estancan a partir del último año reportado (se mantiene igual). Cuántas son las emisiones en 'Kg' sólo para Costa Rica en el año desde el ultimo año hasta el 2025 usando el dataframe 'df_emisions_co2'?\n"
            ]
        },
        {
            "cell_type": "code",
            "execution_count": null,
            "metadata": {
                "azdata_cell_guid": "c65ecf97-b679-4808-91cc-fe771ce12b6b",
                "id": "76ed009c",
                "language": "python"
            },
            "outputs": [
                {
                    "name": "stdout",
                    "output_type": "stream",
                    "text": [
                        "La emisiones a partir del 2017 hasta 2025 de Costa Rica en KG seria: 60675288000.0\n"
                    ]
                }
            ],
            "source": [
                "# Coloque el código que responda a la pregunta aqui exactamente lo que se pregunta\n",
                "present_emisions = df_emisions_co2[df_emisions_co2['Country'] == 'Costa Rica'].max()['Value']\n",
                "\n",
                "print('La emisiones a partir del 2017 hasta 2025 de Costa Rica en KG seria:', present_emisions * 8 * 1000000)"
            ]
        },
        {
            "cell_type": "markdown",
            "metadata": {
                "azdata_cell_guid": "46cbe15c-fe3e-440c-8d83-8c8f73e4d5a7",
                "id": "1c18874b"
            },
            "source": [
                "# Pregunta 12"
            ]
        },
        {
            "cell_type": "markdown",
            "metadata": {
                "azdata_cell_guid": "14dc18b7-8bdb-41a5-a5eb-34da63fef812",
                "id": "6a487c43"
            },
            "source": [
                "Para sólo los países de Centroamérica ['El Salvador', 'Honduras', 'Guatemala', 'Costa Rica', 'Nicaragua'] obtener un reporte por año de las emisiones totales en Centroamérica usando el dataframe 'df_emisions_co2'?\n",
                "Se espera un dataframe de 2 columnas: 'Year' y 'total_por_año'"
            ]
        },
        {
            "cell_type": "code",
            "execution_count": 97,
            "metadata": {
                "azdata_cell_guid": "ba31d64d-a10b-4275-b19e-86f3e18984b6",
                "id": "1d0426bf",
                "language": "python"
            },
            "outputs": [
                {
                    "name": "stdout",
                    "output_type": "stream",
                    "text": [
                        "   Year  total_por__año\n",
                        "0  1975        6845.286\n",
                        "1  1985        7066.520\n",
                        "2  1995       15101.244\n",
                        "3  2005       22940.694\n",
                        "4  2010       24260.852\n",
                        "5  2015       27943.000\n",
                        "6  2016       28104.937\n",
                        "7  2017       27853.100\n"
                    ]
                }
            ],
            "source": [
                "# Coloque el código que responda a la pregunta aqui exactamente lo que se pregunta\n",
                "country_filter = df_emisions_co2[df_emisions_co2['Country'].isin(['El Salvador', 'Honduras', ' Guatemala','Costa Rica' , 'Nicaragua'])]\n",
                "\n",
                "emisiones_centroamerica = country_filter.groupby('Year', as_index=False)['Value'].sum()\n",
                "\n",
                "emisiones_centroamerica = emisiones_centroamerica.rename(columns={'Value': 'total_por__año'})\n",
                "\n",
                "print(emisiones_centroamerica)\n",
                "\n"
            ]
        },
        {
            "cell_type": "markdown",
            "metadata": {
                "azdata_cell_guid": "77c94d71-c324-4495-88c1-90cb5953b117",
                "id": "8fdaae3d"
            },
            "source": [
                "# Pregunta 13"
            ]
        },
        {
            "cell_type": "markdown",
            "metadata": {
                "azdata_cell_guid": "e4379b6f-d518-49e9-ba6a-181999caae36",
                "id": "8a7e17ff"
            },
            "source": [
                "Para sólo los países de Centroamérica ['El Salvador', 'Honduras', 'Guatemala', 'Costa Rica', 'Nicaragua'] obtener un reporte por año de las emisiones en promedio en Centroamérica usando el dataframe 'df_emisions_co2_per_capita'?\n",
                "Se espera un dataframe de 2 columnas: 'Year' y 'promedio_por_año'"
            ]
        },
        {
            "cell_type": "code",
            "execution_count": 101,
            "metadata": {
                "azdata_cell_guid": "b8107b3d-4b45-45e3-9c3e-2e20c56ed7a9",
                "id": "4ec787f4",
                "language": "python"
            },
            "outputs": [
                {
                    "name": "stdout",
                    "output_type": "stream",
                    "text": [
                        "   Year  promedio_por__año\n",
                        "0  1975            0.59400\n",
                        "1  1985            0.48100\n",
                        "2  1995            0.81250\n",
                        "3  2005            1.01225\n",
                        "4  2010            1.01675\n",
                        "5  2015            1.08825\n",
                        "6  2016            1.09475\n",
                        "7  2017            1.07075\n"
                    ]
                }
            ],
            "source": [
                "# Coloque el código que responda a la pregunta aqui exactamente lo que se pregunta\n",
                "emisiones_capita = df_emisions_co2_per_capita[df_emisions_co2_per_capita['Country'].isin(['El Salvador', 'Honduras', ' Guatemala','Costa Rica' , 'Nicaragua'])]\n",
                "\n",
                "emisiones_promedio = emisiones_capita.groupby('Year', as_index=False)['Value'].agg(['mean'])\n",
                "\n",
                "\n",
                "emisiones_promedio = emisiones_promedio.rename(columns={'mean': 'promedio_por__año'})\n",
                "\n",
                "print(emisiones_promedio)\n"
            ]
        },
        {
            "cell_type": "markdown",
            "metadata": {
                "azdata_cell_guid": "0a62ff93-d68b-48da-b993-51cc40362107",
                "id": "944ac865"
            },
            "source": [
                "# Pregunta 14"
            ]
        },
        {
            "cell_type": "markdown",
            "metadata": {
                "azdata_cell_guid": "3f87f1b5-8bed-42ed-aba4-3b2244324e40",
                "id": "b961da55"
            },
            "source": [
                "Cuál es el promedio de las emisiones per capita para el año 2005 usando el dataframe 'df_emisions_co2_per_capita'?\n"
            ]
        },
        {
            "cell_type": "code",
            "execution_count": 110,
            "metadata": {
                "azdata_cell_guid": "fe76819d-d78b-4923-9982-967e36223207",
                "id": "e2f0a786",
                "language": "python"
            },
            "outputs": [
                {
                    "name": "stdout",
                    "output_type": "stream",
                    "text": [
                        "3    5.29775\n",
                        "Name: mean, dtype: float64\n"
                    ]
                }
            ],
            "source": [
                "# Coloque el código que responda a la pregunta aqui exactamente lo que se pregunta\n",
                "\n",
                "promedio_capita = df_emisions_co2_per_capita.groupby('Year', as_index=False)['Value'].agg(['mean'])\n",
                "\n",
                "promedio_capita = promedio_capita[promedio_capita['Year'] == 2005]['mean']\n",
                "                                             \n",
                "print(promedio_capita)"
            ]
        },
        {
            "cell_type": "markdown",
            "metadata": {},
            "source": [
                "# Pregunta 15\n",
                "\n",
                "Usa el dataframe  'df_emisions_co2_per_capita' con las columnas Year y promedio_por_año para crear una gráfica de líneas que muestre la evolución del promedio de emisiones per cápita en Centroamérica a lo largo del tiempo; el eje X debe ser el año y el eje Y el promedio de emisiones."
            ]
        },
        {
            "cell_type": "code",
            "execution_count": 123,
            "metadata": {},
            "outputs": [
                {
                    "data": {
                        "image/png": "[encoded data removed]",
                        "text/plain": [
                            "<Figure size 640x480 with 1 Axes>"
                        ]
                    },
                    "metadata": {},
                    "output_type": "display_data"
                }
            ],
            "source": [
                "# Coloque el código que responda a la pregunta aqui exactamente lo que se pregunta\n",
                "import matplotlib.pyplot as plt \n",
                "\n",
                "\n",
                "centroamerica_capita = df_emisions_co2_per_capita[df_emisions_co2_per_capita['Country'].isin(['El Salvador', 'Honduras', ' Guatemala','Costa Rica' , 'Nicaragua'])]\n",
                "\n",
                "centroamerica_capita = centroamerica_capita.groupby('Year', as_index=False)['Value'].agg(['mean'])\n",
                "\n",
                "\n",
                "ypoints = centroamerica_capita['mean'].tolist()\n",
                "xpoints = centroamerica_capita['Year'].tolist()\n",
                "#print(xpoints)\n",
                "#print(ypoints)\n",
                "# xpoint = np.array([1975, 1985, 1995, 2005, 2010, 2015, 2016, 2017])\n",
                "plt.plot(xpoints, ypoints,  linestyle = 'dotted')\n",
                "plt.xlabel(\"Año\")\n",
                "plt.ylabel(\"Promedio de emisiones  por Año\")\n",
                "plt.title(\"Promedio de emisiones  por Año \")\n",
                "# plt.plot(ypoints, linestyle = 'dotted')\n",
                "plt.show()\n",
                "\n",
                "\n",
                "# print(centroamerica_capita)\n",
                "\n",
                "\n"
            ]
        }
    ],
    "metadata": {
        "colab": {
            "provenance": []
        },
        "kernelspec": {
            "display_name": "Python 3",
            "language": "python",
            "name": "python3"
        },
        "language_info": {
            "codemirror_mode": {
                "name": "ipython",
                "version": 3
            },
            "file_extension": ".py",
            "mimetype": "text/x-python",
            "name": "python",
            "nbconvert_exporter": "python",
            "pygments_lexer": "ipython3",
            "version": "3.12.10"
        }
    },
    "nbformat": 4,
    "nbformat_minor": 2
}
